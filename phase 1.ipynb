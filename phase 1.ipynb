{
 "cells": [
  {
   "cell_type": "code",
   "execution_count": null,
   "id": "11234c24",
   "metadata": {},
   "outputs": [],
   "source": [
    "import os\n",
    "import shutil\n",
    "import zipfile\n",
    "\n",
    "def create_output_folder(output_folder):\n",
    "    # Create output folder if it doesn't exist\n",
    "    os.makedirs(output_folder, exist_ok=True)\n",
    "\n",
    "def extract_file(zip_ref, file_info, output_folder):\n",
    "    # Extract the file\n",
    "    zip_ref.extract(file_info.filename, output_folder)\n",
    "    # Return the size of the extracted file\n",
    "    return file_info.file_size\n",
    "\n",
    "def extract_subset(zip_file_path, output_folder, file_count_limit=1000, total_size_limit_gb=20):\n",
    "    create_output_folder(output_folder)\n",
    "    \n",
    "    extracted_size = 0\n",
    "    extracted_count = 0\n",
    "    \n",
    "    # Open the zip file\n",
    "    with zipfile.ZipFile(zip_file_path, 'r') as zip_ref:\n",
    "        # Iterate over each file in the zip archive\n",
    "        for file_info in zip_ref.infolist():\n",
    "            if (extracted_count >= file_count_limit \n",
    "                or extracted_size >= total_size_limit_gb * (1024 ** 3)):\n",
    "                break\n",
    "            \n",
    "            # Extract the file and update extracted size and count\n",
    "            extracted_size += extract_file(zip_ref, file_info, output_folder)\n",
    "            extracted_count += 1\n",
    "\n",
    "zip_file_path = r'D:\\E folder\\big data\\fma_small.zip'\n",
    "output_folder = r'D:\\sample_size'\n",
    "extract_subset(zip_file_path, output_folder, file_count_limit=1000, total_size_limit_gb=15)\n"
   ]
  }
 ],
 "metadata": {
  "kernelspec": {
   "display_name": "Python 3 (ipykernel)",
   "language": "python",
   "name": "python3"
  },
  "language_info": {
   "codemirror_mode": {
    "name": "ipython",
    "version": 3
   },
   "file_extension": ".py",
   "mimetype": "text/x-python",
   "name": "python",
   "nbconvert_exporter": "python",
   "pygments_lexer": "ipython3",
   "version": "3.11.4"
  }
 },
 "nbformat": 4,
 "nbformat_minor": 5
}
